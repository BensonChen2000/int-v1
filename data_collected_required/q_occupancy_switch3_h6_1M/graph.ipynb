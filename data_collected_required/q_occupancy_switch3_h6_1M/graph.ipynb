{
 "cells": [
  {
   "cell_type": "code",
   "execution_count": 19,
   "metadata": {},
   "outputs": [],
   "source": [
    "import matplotlib.pyplot as plt\n",
    "import csv\n",
    "import typing\n",
    "import numpy as np\n",
    "# recording 60 seconds of data\n",
    "TIME = 20\n",
    "START = 5"
   ]
  },
  {
   "cell_type": "code",
   "execution_count": 20,
   "metadata": {},
   "outputs": [],
   "source": [
    "# get the average of the data\n",
    "def readData(f : typing.TextIO):\n",
    "    \n",
    "    data_sum = np.zeros(TIME)\n",
    "    data_count = np.zeros(TIME)\n",
    "\n",
    "    reader = csv.reader(f, delimiter=',')\n",
    "    for r in reader:\n",
    "        time = int(float(r[0]))\n",
    "        data = float(r[1])\n",
    "\n",
    "        #  only collect data is this time interval\n",
    "        if time < START + TIME:\n",
    "            data_sum[time - START] += data\n",
    "            data_count[time - START] += 1\n",
    "\n",
    "    return np.divide(data_sum, data_count)"
   ]
  },
  {
   "cell_type": "code",
   "execution_count": 21,
   "metadata": {},
   "outputs": [
    {
     "ename": "FileNotFoundError",
     "evalue": "[Errno 2] No such file or directory: 's1_data_0,5M.txt'",
     "output_type": "error",
     "traceback": [
      "\u001b[0;31m---------------------------------------------------------------------------\u001b[0m",
      "\u001b[0;31mFileNotFoundError\u001b[0m                         Traceback (most recent call last)",
      "Cell \u001b[0;32mIn[21], line 2\u001b[0m\n\u001b[1;32m      1\u001b[0m \u001b[39mwith\u001b[39;00m \u001b[39mopen\u001b[39m(\u001b[39m\"\u001b[39m\u001b[39ms1_data_0.1M.txt\u001b[39m\u001b[39m\"\u001b[39m, \u001b[39m\"\u001b[39m\u001b[39mr\u001b[39m\u001b[39m\"\u001b[39m) \u001b[39mas\u001b[39;00m d1, \\\n\u001b[0;32m----> 2\u001b[0m      \u001b[39mopen\u001b[39;49m(\u001b[39m\"\u001b[39;49m\u001b[39ms1_data_0,5M.txt\u001b[39;49m\u001b[39m\"\u001b[39;49m, \u001b[39m\"\u001b[39;49m\u001b[39mr\u001b[39;49m\u001b[39m\"\u001b[39;49m) \u001b[39mas\u001b[39;00m d2, \\\n\u001b[1;32m      3\u001b[0m      \u001b[39mopen\u001b[39m(\u001b[39m\"\u001b[39m\u001b[39ms1_data_1M.txt\u001b[39m\u001b[39m\"\u001b[39m, \u001b[39m\"\u001b[39m\u001b[39mr\u001b[39m\u001b[39m\"\u001b[39m) \u001b[39mas\u001b[39;00m d3 :\n\u001b[1;32m      5\u001b[0m      data_1 \u001b[39m=\u001b[39m readData(d1)\n\u001b[1;32m      6\u001b[0m      data_2 \u001b[39m=\u001b[39m readData(d2)\n",
      "File \u001b[0;32m~/.local/lib/python3.8/site-packages/IPython/core/interactiveshell.py:284\u001b[0m, in \u001b[0;36m_modified_open\u001b[0;34m(file, *args, **kwargs)\u001b[0m\n\u001b[1;32m    277\u001b[0m \u001b[39mif\u001b[39;00m file \u001b[39min\u001b[39;00m {\u001b[39m0\u001b[39m, \u001b[39m1\u001b[39m, \u001b[39m2\u001b[39m}:\n\u001b[1;32m    278\u001b[0m     \u001b[39mraise\u001b[39;00m \u001b[39mValueError\u001b[39;00m(\n\u001b[1;32m    279\u001b[0m         \u001b[39mf\u001b[39m\u001b[39m\"\u001b[39m\u001b[39mIPython won\u001b[39m\u001b[39m'\u001b[39m\u001b[39mt let you open fd=\u001b[39m\u001b[39m{\u001b[39;00mfile\u001b[39m}\u001b[39;00m\u001b[39m by default \u001b[39m\u001b[39m\"\u001b[39m\n\u001b[1;32m    280\u001b[0m         \u001b[39m\"\u001b[39m\u001b[39mas it is likely to crash IPython. If you know what you are doing, \u001b[39m\u001b[39m\"\u001b[39m\n\u001b[1;32m    281\u001b[0m         \u001b[39m\"\u001b[39m\u001b[39myou can use builtins\u001b[39m\u001b[39m'\u001b[39m\u001b[39m open.\u001b[39m\u001b[39m\"\u001b[39m\n\u001b[1;32m    282\u001b[0m     )\n\u001b[0;32m--> 284\u001b[0m \u001b[39mreturn\u001b[39;00m io_open(file, \u001b[39m*\u001b[39;49margs, \u001b[39m*\u001b[39;49m\u001b[39m*\u001b[39;49mkwargs)\n",
      "\u001b[0;31mFileNotFoundError\u001b[0m: [Errno 2] No such file or directory: 's1_data_0,5M.txt'"
     ]
    }
   ],
   "source": [
    "with open(\"s1_data_0.1M.txt\", \"r\") as d1, \\\n",
    "     open(\"s1_data_0.5M.txt\", \"r\") as d2, \\\n",
    "     open(\"s1_data_1M.txt\", \"r\") as d3 :\n",
    "\n",
    "     data_1 = readData(d1)\n",
    "     data_2 = readData(d2)\n",
    "     data_3 = readData(d3)\n",
    "\n",
    "     plt.subplot(1, 2, 1) # row 1, col 2 index 1\n",
    "     plt.bar(['0-20', '20-40', '40-60'], [0.1, 0.5, 1])\n",
    "     plt.title(\"traffic vs time (s1)\")\n",
    "     plt.xlabel('time (s)')\n",
    "     plt.ylabel('Mbits per sec')\n",
    "\n",
    "     plt.subplot(1, 2, 2) # index 2\n",
    "     plt.boxplot([data_1, data_2, data_3], labels=['0-20', '20-40', '40-60'])\n",
    "     plt.title(\"avg q_occupancy vs time (s1)\")\n",
    "     plt.xlabel('time (s)')\n",
    "     plt.ylabel('average q_occupancy')\n",
    "\n",
    "     plt.show()"
   ]
  }
 ],
 "metadata": {
  "kernelspec": {
   "display_name": "Python 3",
   "language": "python",
   "name": "python3"
  },
  "language_info": {
   "codemirror_mode": {
    "name": "ipython",
    "version": 3
   },
   "file_extension": ".py",
   "mimetype": "text/x-python",
   "name": "python",
   "nbconvert_exporter": "python",
   "pygments_lexer": "ipython3",
   "version": "3.8.10"
  },
  "orig_nbformat": 4
 },
 "nbformat": 4,
 "nbformat_minor": 2
}
