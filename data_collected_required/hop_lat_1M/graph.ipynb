{
 "cells": [
  {
   "cell_type": "code",
   "execution_count": 16,
   "metadata": {},
   "outputs": [],
   "source": [
    "import matplotlib.pyplot as plt\n",
    "import csv\n",
    "import typing\n",
    "import numpy as np\n",
    "# recording 60 seconds of data\n",
    "TIME = 60\n",
    "START = 16"
   ]
  },
  {
   "cell_type": "code",
   "execution_count": 17,
   "metadata": {},
   "outputs": [],
   "source": [
    "# get the average of the data per seconds\n",
    "def readData_perSecond(f : typing.TextIO):\n",
    "    \n",
    "    data_sum = np.zeros(TIME)\n",
    "    data_count = np.zeros(TIME)\n",
    "\n",
    "    reader = csv.reader(f, delimiter=',')\n",
    "    for r in reader:\n",
    "        # get time and round down\n",
    "        time = int(float(r[0]))\n",
    "        data = float(r[1])\n",
    "\n",
    "        #  only collect data is this time interval\n",
    "        if time < START + TIME:\n",
    "            data_sum[time - START] += data\n",
    "            data_count[time - START] += 1\n",
    "\n",
    "    return np.divide(data_sum, data_count)"
   ]
  },
  {
   "cell_type": "code",
   "execution_count": 18,
   "metadata": {},
   "outputs": [],
   "source": [
    "def readData_allAvg(f : typing.TextIO):\n",
    "\n",
    "    data_sum = 0\n",
    "    data_count = 0\n",
    "\n",
    "    reader = csv.reader(f, delimiter=',')\n",
    "    for r in reader:\n",
    "        # get time and round down\n",
    "        time = int(float(r[0]))\n",
    "        data = float(r[1])\n",
    "\n",
    "        #  only collect data is this time interval\n",
    "        if time < START + TIME:\n",
    "            data_sum += data\n",
    "            data_count += 1\n",
    "\n",
    "    return data_sum / data_count"
   ]
  },
  {
   "cell_type": "code",
   "execution_count": 19,
   "metadata": {},
   "outputs": [],
   "source": [
    "# open file\n",
    "s1_data = None\n",
    "s2_data = None\n",
    "s3_data = None\n",
    "\n",
    "with open(\"s1_data.txt\", \"r\") as s1, \\\n",
    "     open(\"s3_data.txt\", \"r\") as s3, \\\n",
    "     open(\"s4_data.txt\", \"r\") as s4 :\n",
    "\n",
    "     s1_data = readData_allAvg(s1)\n",
    "     s3_data = readData_allAvg(s3)\n",
    "     s4_data = readData_allAvg(s4)\n",
    "     plt.style.use('ggplot')\n",
    "     plt.bar(['switch1', 'switch3', 'switch4'], [s1_data, s3_data, s4_data])\n",
    "     plt.xlabel('switches')\n",
    "     plt.ylabel('average hop latency')\n",
    "     plt.title('average hop latency with 1Mbits/s backgroun traffic')\n",
    "     plt.show()"
   ]
  }
 ],
 "metadata": {
  "kernelspec": {
   "display_name": "Python 3",
   "language": "python",
   "name": "python3"
  },
  "language_info": {
   "codemirror_mode": {
    "name": "ipython",
    "version": 3
   },
   "file_extension": ".py",
   "mimetype": "text/x-python",
   "name": "python",
   "nbconvert_exporter": "python",
   "pygments_lexer": "ipython3",
   "version": "3.8.10"
  },
  "orig_nbformat": 4
 },
 "nbformat": 4,
 "nbformat_minor": 2
}
